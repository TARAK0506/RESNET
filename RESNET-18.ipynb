{
 "cells": [
  {
   "cell_type": "code",
   "execution_count": 1,
   "metadata": {},
   "outputs": [],
   "source": [
    "import os \n",
    "import cv2 as cv\n",
    "\n",
    "import numpy as np\n",
    "import pandas as pd\n",
    "import matplotlib.pyplot as plt\n",
    "import seaborn as sns\n",
    "\n",
    "import matplotlib.image as mpimg\n",
    "%matplotlib inline\n",
    "\n",
    "from PIL import Image \n",
    "\n",
    "import tensorflow as tf\n",
    "\n",
    "from keras.applications.resnet import ResNet50\n",
    "from keras.models import Model,Sequential,load_model\n",
    "from keras.utils.np_utils import to_categorical\n",
    "from tensorflow.keras.layers import Input,ZeroPadding2D,Activation,Add\n",
    "from keras.layers import Dense, Dropout, Flatten, Conv2D\n",
    "from tensorflow.keras.optimizers import Adam\n",
    "from tensorflow.keras.utils import load_img, img_to_array \n",
    "from keras.applications.resnet import decode_predictions\n",
    "from keras.applications.resnet import preprocess_input\n",
    "\n",
    "\n",
    "from keras.layers import GlobalAveragePooling2D\n",
    "from keras.layers import AveragePooling1D \n",
    "from keras.layers import MaxPooling2D\n",
    "\n",
    "from keras.initializers import glorot_uniform\n",
    "import keras\n",
    "import keras.utils\n",
    "from keras import utils as np_utils"
   ]
  },
  {
   "cell_type": "code",
   "execution_count": 2,
   "metadata": {
    "execution": {
     "iopub.execute_input": "2022-12-27T16:50:37.665901Z",
     "iopub.status.busy": "2022-12-27T16:50:37.665185Z",
     "iopub.status.idle": "2022-12-27T16:50:37.688898Z",
     "shell.execute_reply": "2022-12-27T16:50:37.688047Z",
     "shell.execute_reply.started": "2022-12-27T16:50:37.665868Z"
    }
   },
   "outputs": [],
   "source": [
    "def create_dataset(img_folder):\n",
    "    img_data=[]\n",
    "    class_name=[]\n",
    "    for dir1 in os.listdir(img_folder):\n",
    "        for file in os.listdir(os.path.join(img_folder,dir1)):\n",
    "            img=cv.imread(os.path.join(img_folder,dir1,file),cv.COLOR_BGR2RGB)\n",
    "            img=cv.resize(img,(224,224),interpolation=cv.INTER_AREA)\n",
    "            img=img.astype('float32')\n",
    "            img/=255\n",
    "            img_data.append(img)\n",
    "            class_name.append(\"COVID\")\n",
    "        break    \n",
    "    return img_data,class_name\n",
    "img_data_C,class_name_C=create_dataset(r\"D:\\Srikanth\\CXR\\Dataset1\\COVID-19_Radiography_Dataset\\COVID\")\n",
    "            "
   ]
  },
  {
   "cell_type": "code",
   "execution_count": 3,
   "metadata": {},
   "outputs": [],
   "source": [
    "def create_dataset(img_folder):\n",
    "    img_data=[]\n",
    "    class_name=[]\n",
    "    for dir1 in os.listdir(img_folder):\n",
    "        for file in os.listdir(os.path.join(img_folder,dir1)):\n",
    "            img=cv.imread(os.path.join(img_folder,dir1,file),cv.COLOR_BGR2RGB)\n",
    "            img=cv.resize(img,(224,224),interpolation=cv.INTER_AREA)\n",
    "            img=img.astype('float32')\n",
    "            img/=255\n",
    "            img_data.append(img)\n",
    "            class_name.append(\"Normal\")\n",
    "        break    \n",
    "    return img_data,class_name\n",
    "img_data_N,class_name_N=create_dataset(r\"D:\\Srikanth\\CXR\\Dataset1\\COVID-19_Radiography_Dataset\\Normal\")\n",
    "            "
   ]
  },
  {
   "cell_type": "code",
   "execution_count": 4,
   "metadata": {},
   "outputs": [],
   "source": [
    "img_data_C.extend(img_data_N)"
   ]
  },
  {
   "cell_type": "code",
   "execution_count": 5,
   "metadata": {
    "execution": {
     "iopub.execute_input": "2022-12-27T16:49:58.656551Z",
     "iopub.status.busy": "2022-12-27T16:49:58.655831Z",
     "iopub.status.idle": "2022-12-27T16:49:58.669061Z",
     "shell.execute_reply": "2022-12-27T16:49:58.668353Z",
     "shell.execute_reply.started": "2022-12-27T16:49:58.656517Z"
    }
   },
   "outputs": [
    {
     "data": {
      "text/plain": [
       "(224, 224)"
      ]
     },
     "execution_count": 5,
     "metadata": {},
     "output_type": "execute_result"
    }
   ],
   "source": [
    "img_data_C[0].shape"
   ]
  },
  {
   "cell_type": "code",
   "execution_count": 6,
   "metadata": {
    "execution": {
     "iopub.execute_input": "2022-12-27T16:49:58.675943Z",
     "iopub.status.busy": "2022-12-27T16:49:58.675721Z",
     "iopub.status.idle": "2022-12-27T16:49:58.686871Z",
     "shell.execute_reply": "2022-12-27T16:49:58.686050Z",
     "shell.execute_reply.started": "2022-12-27T16:49:58.675916Z"
    }
   },
   "outputs": [],
   "source": [
    "class_name_C.extend(class_name_N)"
   ]
  },
  {
   "cell_type": "code",
   "execution_count": 7,
   "metadata": {
    "execution": {
     "iopub.execute_input": "2022-12-27T16:49:58.691745Z",
     "iopub.status.busy": "2022-12-27T16:49:58.691221Z",
     "iopub.status.idle": "2022-12-27T16:49:58.703890Z",
     "shell.execute_reply": "2022-12-27T16:49:58.703146Z",
     "shell.execute_reply.started": "2022-12-27T16:49:58.691713Z"
    }
   },
   "outputs": [
    {
     "data": {
      "text/plain": [
       "{'COVID': 0, 'Normal': 1}"
      ]
     },
     "execution_count": 7,
     "metadata": {},
     "output_type": "execute_result"
    }
   ],
   "source": [
    "import numpy as np\n",
    "target_dict={k:v for v,k in enumerate(np.unique(class_name_C))}\n",
    "target_dict"
   ]
  },
  {
   "cell_type": "code",
   "execution_count": 8,
   "metadata": {
    "execution": {
     "iopub.status.busy": "2022-12-27T16:49:58.704489Z",
     "iopub.status.idle": "2022-12-27T16:49:58.704775Z",
     "shell.execute_reply": "2022-12-27T16:49:58.704628Z",
     "shell.execute_reply.started": "2022-12-27T16:49:58.704614Z"
    }
   },
   "outputs": [],
   "source": [
    "target_val=[target_dict[class_name_C[i]] for i in range(len(class_name_C))]"
   ]
  },
  {
   "cell_type": "code",
   "execution_count": 9,
   "metadata": {},
   "outputs": [
    {
     "data": {
      "text/plain": [
       "13808"
      ]
     },
     "execution_count": 9,
     "metadata": {},
     "output_type": "execute_result"
    }
   ],
   "source": [
    "len(target_val)"
   ]
  },
  {
   "cell_type": "code",
   "execution_count": 10,
   "metadata": {
    "execution": {
     "iopub.execute_input": "2022-12-27T16:49:58.718244Z",
     "iopub.status.busy": "2022-12-27T16:49:58.717852Z",
     "iopub.status.idle": "2022-12-27T16:49:58.731903Z",
     "shell.execute_reply": "2022-12-27T16:49:58.731199Z",
     "shell.execute_reply.started": "2022-12-27T16:49:58.718219Z"
    }
   },
   "outputs": [],
   "source": [
    "opt=tf.keras.optimizers.Adam(learning_rate=0.001)"
   ]
  },
  {
   "cell_type": "code",
   "execution_count": 11,
   "metadata": {},
   "outputs": [],
   "source": [
    "x=np.array(tf.expand_dims(img_data_C,axis=-1), np.float32)\n",
    "y=np.array(list(map(int,target_val)), np.float32)"
   ]
  },
  {
   "cell_type": "code",
   "execution_count": 12,
   "metadata": {},
   "outputs": [],
   "source": [
    "from sklearn.model_selection import train_test_split\n",
    "x_train,x_test,y_train,y_test=train_test_split(x,y,random_state=42,train_size=0.75)"
   ]
  },
  {
   "cell_type": "code",
   "execution_count": 13,
   "metadata": {},
   "outputs": [
    {
     "name": "stdout",
     "output_type": "stream",
     "text": [
      "[0.68235296]\n"
     ]
    }
   ],
   "source": [
    "print(x_train[0][0][0])"
   ]
  },
  {
   "cell_type": "code",
   "execution_count": 14,
   "metadata": {},
   "outputs": [
    {
     "name": "stdout",
     "output_type": "stream",
     "text": [
      "(10356, 224, 224, 1)\n"
     ]
    }
   ],
   "source": [
    "print(x_train.shape)"
   ]
  },
  {
   "cell_type": "code",
   "execution_count": 15,
   "metadata": {},
   "outputs": [
    {
     "name": "stdout",
     "output_type": "stream",
     "text": [
      "[0.8745098]\n"
     ]
    }
   ],
   "source": [
    "print(x_test[0][0][0])"
   ]
  },
  {
   "cell_type": "code",
   "execution_count": 16,
   "metadata": {},
   "outputs": [
    {
     "name": "stdout",
     "output_type": "stream",
     "text": [
      "(3452, 224, 224, 1)\n"
     ]
    }
   ],
   "source": [
    "print(x_test.shape)"
   ]
  },
  {
   "cell_type": "code",
   "execution_count": 17,
   "metadata": {
    "execution": {
     "iopub.execute_input": "2022-12-27T16:49:58.733772Z",
     "iopub.status.busy": "2022-12-27T16:49:58.733225Z",
     "iopub.status.idle": "2022-12-27T16:49:58.749171Z",
     "shell.execute_reply": "2022-12-27T16:49:58.748441Z",
     "shell.execute_reply.started": "2022-12-27T16:49:58.733744Z"
    }
   },
   "outputs": [],
   "source": [
    "es=tf.keras.callbacks.EarlyStopping(\n",
    "    monitor=\"val_loss\",\n",
    "    min_delta=0.001,\n",
    "    patience=20,\n",
    "    verbose=1,\n",
    "    mode=\"auto\",\n",
    "    baseline=None,\n",
    "    restore_best_weights=False,\n",
    ")"
   ]
  },
  {
   "cell_type": "code",
   "execution_count": 18,
   "metadata": {},
   "outputs": [],
   "source": [
    "from keras.layers import MaxPooling2D,AveragePooling2D"
   ]
  },
  {
   "cell_type": "code",
   "execution_count": 19,
   "metadata": {
    "execution": {
     "iopub.execute_input": "2022-12-27T16:49:58.842657Z",
     "iopub.status.busy": "2022-12-27T16:49:58.842450Z",
     "iopub.status.idle": "2022-12-27T16:49:58.871071Z",
     "shell.execute_reply": "2022-12-27T16:49:58.870109Z",
     "shell.execute_reply.started": "2022-12-27T16:49:58.842634Z"
    }
   },
   "outputs": [
    {
     "name": "stdout",
     "output_type": "stream",
     "text": [
      "Epoch 1/20\n",
      "104/104 [==============================] - 332s 3s/step - loss: 0.5847 - accuracy: 0.7388 - val_loss: 0.5814 - val_accuracy: 0.7361\n",
      "Epoch 2/20\n",
      "104/104 [==============================] - 324s 3s/step - loss: 0.5763 - accuracy: 0.7388 - val_loss: 0.5762 - val_accuracy: 0.7361\n",
      "Epoch 3/20\n",
      "104/104 [==============================] - 316s 3s/step - loss: 0.5584 - accuracy: 0.7392 - val_loss: 0.5267 - val_accuracy: 0.7375\n",
      "Epoch 4/20\n",
      "104/104 [==============================] - 314s 3s/step - loss: 0.5166 - accuracy: 0.7594 - val_loss: 0.4976 - val_accuracy: 0.7775\n",
      "Epoch 5/20\n",
      "104/104 [==============================] - 313s 3s/step - loss: 0.4648 - accuracy: 0.7863 - val_loss: 0.4182 - val_accuracy: 0.8019\n",
      "Epoch 6/20\n",
      "104/104 [==============================] - 314s 3s/step - loss: 0.4002 - accuracy: 0.8217 - val_loss: 0.3679 - val_accuracy: 0.8384\n",
      "Epoch 7/20\n",
      "104/104 [==============================] - 316s 3s/step - loss: 0.3736 - accuracy: 0.8350 - val_loss: 0.3514 - val_accuracy: 0.8401\n",
      "Epoch 8/20\n",
      "104/104 [==============================] - 312s 3s/step - loss: 0.3382 - accuracy: 0.8503 - val_loss: 0.3468 - val_accuracy: 0.8528\n",
      "Epoch 9/20\n",
      "104/104 [==============================] - 312s 3s/step - loss: 0.3244 - accuracy: 0.8569 - val_loss: 0.3142 - val_accuracy: 0.8650\n",
      "Epoch 10/20\n",
      "104/104 [==============================] - 309s 3s/step - loss: 0.3026 - accuracy: 0.8638 - val_loss: 0.3061 - val_accuracy: 0.8592\n",
      "Epoch 11/20\n",
      "104/104 [==============================] - 312s 3s/step - loss: 0.2922 - accuracy: 0.8713 - val_loss: 0.2797 - val_accuracy: 0.8792\n",
      "Epoch 12/20\n",
      "104/104 [==============================] - 312s 3s/step - loss: 0.2717 - accuracy: 0.8830 - val_loss: 0.2692 - val_accuracy: 0.8792\n",
      "Epoch 13/20\n",
      "104/104 [==============================] - 311s 3s/step - loss: 0.2405 - accuracy: 0.8968 - val_loss: 0.2701 - val_accuracy: 0.8838\n",
      "Epoch 14/20\n",
      "104/104 [==============================] - 312s 3s/step - loss: 0.2435 - accuracy: 0.8953 - val_loss: 0.3464 - val_accuracy: 0.8470\n",
      "Epoch 15/20\n",
      "104/104 [==============================] - 309s 3s/step - loss: 0.2313 - accuracy: 0.9033 - val_loss: 0.2518 - val_accuracy: 0.8922\n",
      "Epoch 16/20\n",
      "104/104 [==============================] - 312s 3s/step - loss: 0.2035 - accuracy: 0.9141 - val_loss: 0.2531 - val_accuracy: 0.8992\n",
      "Epoch 17/20\n",
      "104/104 [==============================] - 311s 3s/step - loss: 0.1889 - accuracy: 0.9238 - val_loss: 0.2494 - val_accuracy: 0.9021\n",
      "Epoch 18/20\n",
      "104/104 [==============================] - 310s 3s/step - loss: 0.1741 - accuracy: 0.9302 - val_loss: 0.2369 - val_accuracy: 0.9070\n",
      "Epoch 19/20\n",
      "104/104 [==============================] - 315s 3s/step - loss: 0.1721 - accuracy: 0.9322 - val_loss: 0.2253 - val_accuracy: 0.9140\n",
      "Epoch 20/20\n",
      "104/104 [==============================] - 312s 3s/step - loss: 0.1612 - accuracy: 0.9363 - val_loss: 0.2414 - val_accuracy: 0.9059\n"
     ]
    },
    {
     "data": {
      "text/plain": [
       "<keras.callbacks.History at 0x26e3fc89790>"
      ]
     },
     "execution_count": 19,
     "metadata": {},
     "output_type": "execute_result"
    }
   ],
   "source": [
    "model=Sequential()\n",
    "model.add(Conv2D(64, kernel_size=(7,7),strides=(2,2) ,activation= 'relu', input_shape=(224,224,1)))\n",
    "model.add(MaxPooling2D(pool_size=(2,2)))\n",
    "model.add(Conv2D(256,(1,1), activation= 'relu'))\n",
    "model.add(Conv2D(64,(1,1), activation= 'relu',strides=(1,1)))\n",
    "model.add(Conv2D(64,(3,3), activation= 'relu',strides=(1,1)))\n",
    "model.add(Conv2D(256,(1,1), activation= 'relu',strides=(1,1)))\n",
    "model.add(Conv2D(64,(1,1), activation= 'relu',strides=(1,1)))\n",
    "model.add(Conv2D(64,(1,1), activation= 'relu',strides=(1,1)))\n",
    "model.add(Conv2D(256,(1,1), activation= 'relu',strides=(1,1)))\n",
    "model.add(Conv2D(64,(1,1), activation= 'relu',strides=(1,1)))\n",
    "model.add(Conv2D(64,(3,3), activation= 'relu',strides=(1,1)))\n",
    "model.add(Conv2D(256,(1,1), activation= 'relu',strides=(1,1)))\n",
    "model.add(Conv2D(512,(1,1), activation= 'relu',strides=(2,2)))\n",
    "model.add(Conv2D(128,(1,1), activation= 'relu',strides=(2,2)))\n",
    "model.add(Conv2D(128,(3,3), activation= 'relu',strides=(1,1)))\n",
    "model.add(Conv2D(512,(1,1), activation= 'relu',strides=(1,1)))\n",
    "model.add(Conv2D(128,(1,1), activation= 'relu',strides=(1,1)))\n",
    "model.add(Conv2D(128,(3,3), activation= 'relu',strides=(1,1)))\n",
    "model.add(Conv2D(512,(1,1), activation= 'relu',strides=(1,1)))\n",
    "\n",
    "\n",
    "model.add(AveragePooling2D(pool_size=(7,7)))\n",
    "model.add(Flatten())\n",
    "model.add(Dense(64, activation='relu'))\n",
    "model.add(Dense(1, activation='sigmoid'))\n",
    "model.compile(loss=keras.losses.binary_crossentropy, optimizer=opt, metrics=['accuracy'])\n",
    "model.fit(x_train,y_train,validation_data=(x_test,y_test),batch_size=100,epochs=20,callbacks=es)"
   ]
  },
  {
   "cell_type": "code",
   "execution_count": 20,
   "metadata": {},
   "outputs": [],
   "source": [
    "import sklearn\n",
    "from numpy import mean\n",
    "from numpy import std\n",
    "from sklearn.model_selection import cross_val_score\n",
    "from sklearn.model_selection import RepeatedStratifiedKFold\n",
    "from sklearn.linear_model import LogisticRegression\n",
    "from sklearn.neighbors import KNeighborsClassifier\n",
    "from sklearn.tree import DecisionTreeClassifier\n",
    "from sklearn.svm import SVC\n",
    "from sklearn.naive_bayes import GaussianNB\n",
    "from sklearn.ensemble import StackingClassifier\n",
    "from sklearn.ensemble import RandomForestClassifier  \n",
    "from sklearn import model_selection\n",
    "from sklearn.ensemble import BaggingClassifier"
   ]
  },
  {
   "cell_type": "code",
   "execution_count": 21,
   "metadata": {},
   "outputs": [
    {
     "name": "stdout",
     "output_type": "stream",
     "text": [
      "(3452, 224, 224, 1)\n"
     ]
    }
   ],
   "source": [
    "print(x_test.shape)"
   ]
  },
  {
   "cell_type": "code",
   "execution_count": 22,
   "metadata": {},
   "outputs": [],
   "source": [
    "def metrics(y_test,pred):\n",
    "    \n",
    "    scores={}\n",
    "    #Accuracy\n",
    "    from sklearn.metrics import accuracy_score\n",
    "    scores[\"accuracy\"]=accuracy_score(y_test,pred)\n",
    "\n",
    "    # Recall\n",
    "    from sklearn.metrics import recall_score\n",
    "    scores[\"recall\"]=recall_score(y_test, pred)\n",
    " \n",
    "    # Precision\n",
    "    from sklearn.metrics import precision_score\n",
    "    scores[\"precision\"]=precision_score(y_test, pred)\n",
    "\n",
    "    #F1 score\n",
    "    from sklearn.metrics import f1_score\n",
    "    scores[\"f1_score\"]=f1_score(y_test,pred)\n",
    "\n",
    "    #Calculate AUC \n",
    "    from sklearn.metrics import roc_curve, auc\n",
    "    fpr, tpr, treshold = roc_curve(y_test, pred)\n",
    "    scores[\"roc\"]=roc_auc = auc(fpr, tpr)\n",
    "    return scores"
   ]
  },
  {
   "cell_type": "code",
   "execution_count": 26,
   "metadata": {},
   "outputs": [
    {
     "data": {
      "text/plain": [
       "(10356, 224, 224, 1)"
      ]
     },
     "execution_count": 26,
     "metadata": {},
     "output_type": "execute_result"
    }
   ],
   "source": [
    "x_train.shape"
   ]
  },
  {
   "cell_type": "code",
   "execution_count": 27,
   "metadata": {},
   "outputs": [
    {
     "name": "stdout",
     "output_type": "stream",
     "text": [
      "324/324 [==============================] - 87s 269ms/step - loss: 0.1520 - accuracy: 0.9392\n"
     ]
    },
    {
     "data": {
      "text/plain": [
       "[0.15199628472328186, 0.9391657114028931]"
      ]
     },
     "execution_count": 27,
     "metadata": {},
     "output_type": "execute_result"
    }
   ],
   "source": [
    "model.evaluate(x_train,y_train)"
   ]
  },
  {
   "cell_type": "code",
   "execution_count": 28,
   "metadata": {},
   "outputs": [
    {
     "name": "stdout",
     "output_type": "stream",
     "text": [
      "108/108 [==============================] - 29s 270ms/step - loss: 0.2414 - accuracy: 0.9059\n"
     ]
    },
    {
     "data": {
      "text/plain": [
       "[0.24139820039272308, 0.9058516621589661]"
      ]
     },
     "execution_count": 28,
     "metadata": {},
     "output_type": "execute_result"
    }
   ],
   "source": [
    "model.evaluate(x_test,y_test)"
   ]
  },
  {
   "cell_type": "code",
   "execution_count": 29,
   "metadata": {},
   "outputs": [
    {
     "name": "stdout",
     "output_type": "stream",
     "text": [
      "108/108 [==============================] - 29s 270ms/step\n"
     ]
    },
    {
     "data": {
      "text/plain": [
       "array([[0.99715126],\n",
       "       [0.9996337 ],\n",
       "       [0.39139825],\n",
       "       ...,\n",
       "       [0.9894812 ],\n",
       "       [0.99861276],\n",
       "       [0.00682746]], dtype=float32)"
      ]
     },
     "execution_count": 29,
     "metadata": {},
     "output_type": "execute_result"
    }
   ],
   "source": [
    "y_pred=model.predict(x_test)\n",
    "y_pred"
   ]
  },
  {
   "cell_type": "code",
   "execution_count": 31,
   "metadata": {},
   "outputs": [
    {
     "name": "stdout",
     "output_type": "stream",
     "text": [
      "{'accuracy': 0.9058516801853997, 'recall': 0.9673356946084218, 'precision': 0.9103703703703704, 'f1_score': 0.9379889334096546, 'roc': 0.8508467715632668}\n"
     ]
    }
   ],
   "source": [
    "print(metrics(y_test,y_pred.round())) "
   ]
  },
  {
   "cell_type": "code",
   "execution_count": 1,
   "metadata": {},
   "outputs": [
    {
     "ename": "NameError",
     "evalue": "name 'model' is not defined",
     "output_type": "error",
     "traceback": [
      "\u001b[1;31m---------------------------------------------------------------------------\u001b[0m",
      "\u001b[1;31mNameError\u001b[0m                                 Traceback (most recent call last)",
      "\u001b[1;32m~\\AppData\\Local\\Temp\\ipykernel_2716\\4068741261.py\u001b[0m in \u001b[0;36m<module>\u001b[1;34m\u001b[0m\n\u001b[0;32m      1\u001b[0m \u001b[1;32mfrom\u001b[0m \u001b[0mkeras\u001b[0m\u001b[1;33m.\u001b[0m\u001b[0mmodels\u001b[0m \u001b[1;32mimport\u001b[0m \u001b[0mload_model\u001b[0m\u001b[1;33m\u001b[0m\u001b[1;33m\u001b[0m\u001b[0m\n\u001b[1;32m----> 2\u001b[1;33m \u001b[0mmodel\u001b[0m\u001b[1;33m.\u001b[0m\u001b[0msave\u001b[0m\u001b[1;33m(\u001b[0m\u001b[1;34m\"resnet18org.h5\"\u001b[0m\u001b[1;33m)\u001b[0m\u001b[1;33m\u001b[0m\u001b[1;33m\u001b[0m\u001b[0m\n\u001b[0m",
      "\u001b[1;31mNameError\u001b[0m: name 'model' is not defined"
     ]
    }
   ],
   "source": [
    "from keras.models import load_model\n",
    "model.save(\"resnet18org.h5\")"
   ]
  },
  {
   "cell_type": "code",
   "execution_count": null,
   "metadata": {},
   "outputs": [],
   "source": []
  },
  {
   "cell_type": "code",
   "execution_count": null,
   "metadata": {},
   "outputs": [],
   "source": []
  },
  {
   "cell_type": "code",
   "execution_count": null,
   "metadata": {},
   "outputs": [],
   "source": [
    "feature_extractor = keras.Model(\n",
    "    inputs=model.inputs,\n",
    "    outputs=model.get_layer(name=\"2048\").output,)"
   ]
  },
  {
   "cell_type": "code",
   "execution_count": null,
   "metadata": {},
   "outputs": [],
   "source": [
    "f=open(\"feature.csv\",\"w\")\n",
    "for i in range(len(img_datac)):\n",
    "    img=img_datac[i]\n",
    "    img=np.expand_dims(img,axis=0)\n",
    "    features =list( feature_extractor(img))\n",
    "    for j in list(features[0]):\n",
    "        f.write(str(float(j))+\",\")\n",
    "    f.write(str(target_val[i])+\"\\n\")    \n",
    "f.close()\n",
    "    "
   ]
  }
 ],
 "metadata": {
  "kernelspec": {
   "display_name": "Python 3 (ipykernel)",
   "language": "python",
   "name": "python3"
  },
  "language_info": {
   "codemirror_mode": {
    "name": "ipython",
    "version": 3
   },
   "file_extension": ".py",
   "mimetype": "text/x-python",
   "name": "python",
   "nbconvert_exporter": "python",
   "pygments_lexer": "ipython3",
   "version": "3.9.13"
  }
 },
 "nbformat": 4,
 "nbformat_minor": 4
}
